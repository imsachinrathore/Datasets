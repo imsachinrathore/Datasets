{
  "nbformat": 4,
  "nbformat_minor": 0,
  "metadata": {
    "colab": {
      "provenance": [],
      "authorship_tag": "ABX9TyOeZ4XOojgh/GPtxcoTVCV6",
      "include_colab_link": true
    },
    "kernelspec": {
      "name": "python3",
      "display_name": "Python 3"
    },
    "language_info": {
      "name": "python"
    }
  },
  "cells": [
    {
      "cell_type": "markdown",
      "metadata": {
        "id": "view-in-github",
        "colab_type": "text"
      },
      "source": [
        "<a href=\"https://colab.research.google.com/github/imsachinrathore/Datasets/blob/main/predict_the_amount_of_taxi.ipynb\" target=\"_parent\"><img src=\"https://colab.research.google.com/assets/colab-badge.svg\" alt=\"Open In Colab\"/></a>"
      ]
    },
    {
      "cell_type": "code",
      "execution_count": null,
      "metadata": {
        "colab": {
          "base_uri": "https://localhost:8080/"
        },
        "id": "uQLDKXi1Efs7",
        "outputId": "5eecebc2-ba4e-49b6-85ce-832ebcec5ccc"
      },
      "outputs": [
        {
          "output_type": "stream",
          "name": "stdout",
          "text": [
            "Predicted number of taxis: [40.]\n"
          ]
        }
      ],
      "source": [
        "import numpy as np\n",
        "from sklearn.linear_model import LinearRegression\n",
        "\n",
        "# Sample data - you should replace this with your own dataset\n",
        "# X represents the features (e.g., time of day, day of week, weather conditions, etc.)\n",
        "# y represents the number of taxis\n",
        "X = np.array([[1, 2, 3], [4, 5, 6], [7, 8, 9]])  # Example features\n",
        "y = np.array([10, 20, 30])  # Example number of taxis\n",
        "\n",
        "# Create and fit the model\n",
        "model = LinearRegression()\n",
        "model.fit(X, y)\n",
        "\n",
        "# Predict the number of taxis for new data\n",
        "new_data = np.array([[10, 11, 12]])  # Example new features\n",
        "predicted_taxi_count = model.predict(new_data)\n",
        "\n",
        "print(\"Predicted number of taxis:\", predicted_taxi_count)\n"
      ]
    }
  ]
}